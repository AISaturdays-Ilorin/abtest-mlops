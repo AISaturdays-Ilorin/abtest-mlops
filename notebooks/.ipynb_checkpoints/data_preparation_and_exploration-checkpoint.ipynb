{
 "cells": [
  {
   "cell_type": "code",
   "execution_count": 47,
   "id": "9855f4fa",
   "metadata": {},
   "outputs": [],
   "source": [
    "#importing packages for data manuplation\n",
    "import scipy\n",
    "import warnings\n",
    "import numpy as np\n",
    "import pandas as pd\n",
    "import seaborn as sns\n",
    "import scipy.stats as scs\n",
    "import plotly.express as px\n",
    "import plotly.graph_objects as go\n",
    "import matplotlib.pyplot as plt\n",
    "from plotly.subplots import make_subplots\n",
    "import sys\n",
    "sys.path.insert(0,'../scripts_/')\n",
    "from HypothesisPlot import HypothesisPlot\n",
    "from DistributionPlots import DistributionPlots"
   ]
  },
  {
   "cell_type": "code",
   "execution_count": 3,
   "id": "0c0ce20b",
   "metadata": {},
   "outputs": [],
   "source": [
    "sys.path.append(os.path.abspath(os.path.join('data')))"
   ]
  },
  {
   "cell_type": "code",
   "execution_count": 4,
   "id": "2037120e",
   "metadata": {},
   "outputs": [
    {
     "data": {
      "text/html": [
       "<div>\n",
       "<style scoped>\n",
       "    .dataframe tbody tr th:only-of-type {\n",
       "        vertical-align: middle;\n",
       "    }\n",
       "\n",
       "    .dataframe tbody tr th {\n",
       "        vertical-align: top;\n",
       "    }\n",
       "\n",
       "    .dataframe thead th {\n",
       "        text-align: right;\n",
       "    }\n",
       "</style>\n",
       "<table border=\"1\" class=\"dataframe\">\n",
       "  <thead>\n",
       "    <tr style=\"text-align: right;\">\n",
       "      <th></th>\n",
       "      <th>auction_id</th>\n",
       "      <th>experiment</th>\n",
       "      <th>date</th>\n",
       "      <th>hour</th>\n",
       "      <th>device_make</th>\n",
       "      <th>platform_os</th>\n",
       "      <th>browser</th>\n",
       "      <th>yes</th>\n",
       "      <th>no</th>\n",
       "    </tr>\n",
       "  </thead>\n",
       "  <tbody>\n",
       "    <tr>\n",
       "      <th>0</th>\n",
       "      <td>0008ef63-77a7-448b-bd1e-075f42c55e39</td>\n",
       "      <td>exposed</td>\n",
       "      <td>2020-07-10</td>\n",
       "      <td>8</td>\n",
       "      <td>Generic Smartphone</td>\n",
       "      <td>6</td>\n",
       "      <td>Chrome Mobile</td>\n",
       "      <td>0</td>\n",
       "      <td>0</td>\n",
       "    </tr>\n",
       "    <tr>\n",
       "      <th>1</th>\n",
       "      <td>000eabc5-17ce-4137-8efe-44734d914446</td>\n",
       "      <td>exposed</td>\n",
       "      <td>2020-07-07</td>\n",
       "      <td>10</td>\n",
       "      <td>Generic Smartphone</td>\n",
       "      <td>6</td>\n",
       "      <td>Chrome Mobile</td>\n",
       "      <td>0</td>\n",
       "      <td>0</td>\n",
       "    </tr>\n",
       "    <tr>\n",
       "      <th>2</th>\n",
       "      <td>0016d14a-ae18-4a02-a204-6ba53b52f2ed</td>\n",
       "      <td>exposed</td>\n",
       "      <td>2020-07-05</td>\n",
       "      <td>2</td>\n",
       "      <td>E5823</td>\n",
       "      <td>6</td>\n",
       "      <td>Chrome Mobile WebView</td>\n",
       "      <td>0</td>\n",
       "      <td>1</td>\n",
       "    </tr>\n",
       "    <tr>\n",
       "      <th>3</th>\n",
       "      <td>00187412-2932-4542-a8ef-3633901c98d9</td>\n",
       "      <td>control</td>\n",
       "      <td>2020-07-03</td>\n",
       "      <td>15</td>\n",
       "      <td>Samsung SM-A705FN</td>\n",
       "      <td>6</td>\n",
       "      <td>Facebook</td>\n",
       "      <td>0</td>\n",
       "      <td>0</td>\n",
       "    </tr>\n",
       "    <tr>\n",
       "      <th>4</th>\n",
       "      <td>001a7785-d3fe-4e11-a344-c8735acacc2c</td>\n",
       "      <td>control</td>\n",
       "      <td>2020-07-03</td>\n",
       "      <td>15</td>\n",
       "      <td>Generic Smartphone</td>\n",
       "      <td>6</td>\n",
       "      <td>Chrome Mobile</td>\n",
       "      <td>0</td>\n",
       "      <td>0</td>\n",
       "    </tr>\n",
       "  </tbody>\n",
       "</table>\n",
       "</div>"
      ],
      "text/plain": [
       "                             auction_id experiment        date  hour  \\\n",
       "0  0008ef63-77a7-448b-bd1e-075f42c55e39    exposed  2020-07-10     8   \n",
       "1  000eabc5-17ce-4137-8efe-44734d914446    exposed  2020-07-07    10   \n",
       "2  0016d14a-ae18-4a02-a204-6ba53b52f2ed    exposed  2020-07-05     2   \n",
       "3  00187412-2932-4542-a8ef-3633901c98d9    control  2020-07-03    15   \n",
       "4  001a7785-d3fe-4e11-a344-c8735acacc2c    control  2020-07-03    15   \n",
       "\n",
       "          device_make  platform_os                browser  yes  no  \n",
       "0  Generic Smartphone            6          Chrome Mobile    0   0  \n",
       "1  Generic Smartphone            6          Chrome Mobile    0   0  \n",
       "2               E5823            6  Chrome Mobile WebView    0   1  \n",
       "3   Samsung SM-A705FN            6               Facebook    0   0  \n",
       "4  Generic Smartphone            6          Chrome Mobile    0   0  "
      ]
     },
     "execution_count": 4,
     "metadata": {},
     "output_type": "execute_result"
    }
   ],
   "source": [
    "import warnings\n",
    "warnings.filterwarnings('ignore')\n",
    "\n",
    "df = pd.read_csv('../data/AdSmartABdata.csv')\n",
    "df.head()"
   ]
  },
  {
   "cell_type": "code",
   "execution_count": 6,
   "id": "aba86bde",
   "metadata": {},
   "outputs": [
    {
     "data": {
      "text/plain": [
       "(8077, 9)"
      ]
     },
     "execution_count": 6,
     "metadata": {},
     "output_type": "execute_result"
    }
   ],
   "source": [
    "df.shape"
   ]
  },
  {
   "cell_type": "code",
   "execution_count": 7,
   "id": "b4120f77",
   "metadata": {},
   "outputs": [],
   "source": [
    "from data_cleaning import DataCleaning "
   ]
  },
  {
   "cell_type": "code",
   "execution_count": 8,
   "id": "57922dcc",
   "metadata": {},
   "outputs": [],
   "source": [
    "#creating an object\n",
    "data=DataCleaning(df)"
   ]
  },
  {
   "cell_type": "code",
   "execution_count": 9,
   "id": "6107eaa3",
   "metadata": {},
   "outputs": [
    {
     "name": "stdout",
     "output_type": "stream",
     "text": [
      "The Telecom dataset contains 0.0 % missing values.\n"
     ]
    },
    {
     "data": {
      "text/html": [
       "<div>\n",
       "<style scoped>\n",
       "    .dataframe tbody tr th:only-of-type {\n",
       "        vertical-align: middle;\n",
       "    }\n",
       "\n",
       "    .dataframe tbody tr th {\n",
       "        vertical-align: top;\n",
       "    }\n",
       "\n",
       "    .dataframe thead th {\n",
       "        text-align: right;\n",
       "    }\n",
       "</style>\n",
       "<table border=\"1\" class=\"dataframe\">\n",
       "  <thead>\n",
       "    <tr style=\"text-align: right;\">\n",
       "      <th></th>\n",
       "      <th>auction_id</th>\n",
       "      <th>experiment</th>\n",
       "      <th>date</th>\n",
       "      <th>hour</th>\n",
       "      <th>device_make</th>\n",
       "      <th>platform_os</th>\n",
       "      <th>browser</th>\n",
       "      <th>yes</th>\n",
       "      <th>no</th>\n",
       "    </tr>\n",
       "  </thead>\n",
       "  <tbody>\n",
       "    <tr>\n",
       "      <th>0</th>\n",
       "      <td>0008ef63-77a7-448b-bd1e-075f42c55e39</td>\n",
       "      <td>exposed</td>\n",
       "      <td>2020-07-10</td>\n",
       "      <td>8</td>\n",
       "      <td>Generic Smartphone</td>\n",
       "      <td>6</td>\n",
       "      <td>Chrome Mobile</td>\n",
       "      <td>0</td>\n",
       "      <td>0</td>\n",
       "    </tr>\n",
       "    <tr>\n",
       "      <th>1</th>\n",
       "      <td>000eabc5-17ce-4137-8efe-44734d914446</td>\n",
       "      <td>exposed</td>\n",
       "      <td>2020-07-07</td>\n",
       "      <td>10</td>\n",
       "      <td>Generic Smartphone</td>\n",
       "      <td>6</td>\n",
       "      <td>Chrome Mobile</td>\n",
       "      <td>0</td>\n",
       "      <td>0</td>\n",
       "    </tr>\n",
       "    <tr>\n",
       "      <th>2</th>\n",
       "      <td>0016d14a-ae18-4a02-a204-6ba53b52f2ed</td>\n",
       "      <td>exposed</td>\n",
       "      <td>2020-07-05</td>\n",
       "      <td>2</td>\n",
       "      <td>E5823</td>\n",
       "      <td>6</td>\n",
       "      <td>Chrome Mobile WebView</td>\n",
       "      <td>0</td>\n",
       "      <td>1</td>\n",
       "    </tr>\n",
       "    <tr>\n",
       "      <th>3</th>\n",
       "      <td>00187412-2932-4542-a8ef-3633901c98d9</td>\n",
       "      <td>control</td>\n",
       "      <td>2020-07-03</td>\n",
       "      <td>15</td>\n",
       "      <td>Samsung SM-A705FN</td>\n",
       "      <td>6</td>\n",
       "      <td>Facebook</td>\n",
       "      <td>0</td>\n",
       "      <td>0</td>\n",
       "    </tr>\n",
       "    <tr>\n",
       "      <th>4</th>\n",
       "      <td>001a7785-d3fe-4e11-a344-c8735acacc2c</td>\n",
       "      <td>control</td>\n",
       "      <td>2020-07-03</td>\n",
       "      <td>15</td>\n",
       "      <td>Generic Smartphone</td>\n",
       "      <td>6</td>\n",
       "      <td>Chrome Mobile</td>\n",
       "      <td>0</td>\n",
       "      <td>0</td>\n",
       "    </tr>\n",
       "  </tbody>\n",
       "</table>\n",
       "</div>"
      ],
      "text/plain": [
       "                             auction_id experiment        date  hour  \\\n",
       "0  0008ef63-77a7-448b-bd1e-075f42c55e39    exposed  2020-07-10     8   \n",
       "1  000eabc5-17ce-4137-8efe-44734d914446    exposed  2020-07-07    10   \n",
       "2  0016d14a-ae18-4a02-a204-6ba53b52f2ed    exposed  2020-07-05     2   \n",
       "3  00187412-2932-4542-a8ef-3633901c98d9    control  2020-07-03    15   \n",
       "4  001a7785-d3fe-4e11-a344-c8735acacc2c    control  2020-07-03    15   \n",
       "\n",
       "          device_make  platform_os                browser  yes  no  \n",
       "0  Generic Smartphone            6          Chrome Mobile    0   0  \n",
       "1  Generic Smartphone            6          Chrome Mobile    0   0  \n",
       "2               E5823            6  Chrome Mobile WebView    0   1  \n",
       "3   Samsung SM-A705FN            6               Facebook    0   0  \n",
       "4  Generic Smartphone            6          Chrome Mobile    0   0  "
      ]
     },
     "execution_count": 9,
     "metadata": {},
     "output_type": "execute_result"
    }
   ],
   "source": [
    "#check if the data has null values\n",
    "data.percent_missing(df)\n",
    "df.head()"
   ]
  },
  {
   "cell_type": "markdown",
   "id": "c7e36b1d",
   "metadata": {},
   "source": [
    ">Our dataset has no missing value and ready for further exploration."
   ]
  },
  {
   "cell_type": "code",
   "execution_count": 10,
   "id": "c5358d47",
   "metadata": {},
   "outputs": [
    {
     "name": "stdout",
     "output_type": "stream",
     "text": [
      "The data has 0 repeated users.\n"
     ]
    },
    {
     "data": {
      "text/html": [
       "<div>\n",
       "<style scoped>\n",
       "    .dataframe tbody tr th:only-of-type {\n",
       "        vertical-align: middle;\n",
       "    }\n",
       "\n",
       "    .dataframe tbody tr th {\n",
       "        vertical-align: top;\n",
       "    }\n",
       "\n",
       "    .dataframe thead th {\n",
       "        text-align: right;\n",
       "    }\n",
       "</style>\n",
       "<table border=\"1\" class=\"dataframe\">\n",
       "  <thead>\n",
       "    <tr style=\"text-align: right;\">\n",
       "      <th></th>\n",
       "      <th>auction_id</th>\n",
       "      <th>experiment</th>\n",
       "      <th>date</th>\n",
       "      <th>hour</th>\n",
       "      <th>device_make</th>\n",
       "      <th>platform_os</th>\n",
       "      <th>browser</th>\n",
       "      <th>yes</th>\n",
       "      <th>no</th>\n",
       "    </tr>\n",
       "  </thead>\n",
       "  <tbody>\n",
       "    <tr>\n",
       "      <th>0</th>\n",
       "      <td>0008ef63-77a7-448b-bd1e-075f42c55e39</td>\n",
       "      <td>exposed</td>\n",
       "      <td>2020-07-10</td>\n",
       "      <td>8</td>\n",
       "      <td>Generic Smartphone</td>\n",
       "      <td>6</td>\n",
       "      <td>Chrome Mobile</td>\n",
       "      <td>0</td>\n",
       "      <td>0</td>\n",
       "    </tr>\n",
       "    <tr>\n",
       "      <th>1</th>\n",
       "      <td>000eabc5-17ce-4137-8efe-44734d914446</td>\n",
       "      <td>exposed</td>\n",
       "      <td>2020-07-07</td>\n",
       "      <td>10</td>\n",
       "      <td>Generic Smartphone</td>\n",
       "      <td>6</td>\n",
       "      <td>Chrome Mobile</td>\n",
       "      <td>0</td>\n",
       "      <td>0</td>\n",
       "    </tr>\n",
       "    <tr>\n",
       "      <th>2</th>\n",
       "      <td>0016d14a-ae18-4a02-a204-6ba53b52f2ed</td>\n",
       "      <td>exposed</td>\n",
       "      <td>2020-07-05</td>\n",
       "      <td>2</td>\n",
       "      <td>E5823</td>\n",
       "      <td>6</td>\n",
       "      <td>Chrome Mobile WebView</td>\n",
       "      <td>0</td>\n",
       "      <td>1</td>\n",
       "    </tr>\n",
       "    <tr>\n",
       "      <th>3</th>\n",
       "      <td>00187412-2932-4542-a8ef-3633901c98d9</td>\n",
       "      <td>control</td>\n",
       "      <td>2020-07-03</td>\n",
       "      <td>15</td>\n",
       "      <td>Samsung SM-A705FN</td>\n",
       "      <td>6</td>\n",
       "      <td>Facebook</td>\n",
       "      <td>0</td>\n",
       "      <td>0</td>\n",
       "    </tr>\n",
       "    <tr>\n",
       "      <th>4</th>\n",
       "      <td>001a7785-d3fe-4e11-a344-c8735acacc2c</td>\n",
       "      <td>control</td>\n",
       "      <td>2020-07-03</td>\n",
       "      <td>15</td>\n",
       "      <td>Generic Smartphone</td>\n",
       "      <td>6</td>\n",
       "      <td>Chrome Mobile</td>\n",
       "      <td>0</td>\n",
       "      <td>0</td>\n",
       "    </tr>\n",
       "  </tbody>\n",
       "</table>\n",
       "</div>"
      ],
      "text/plain": [
       "                             auction_id experiment        date  hour  \\\n",
       "0  0008ef63-77a7-448b-bd1e-075f42c55e39    exposed  2020-07-10     8   \n",
       "1  000eabc5-17ce-4137-8efe-44734d914446    exposed  2020-07-07    10   \n",
       "2  0016d14a-ae18-4a02-a204-6ba53b52f2ed    exposed  2020-07-05     2   \n",
       "3  00187412-2932-4542-a8ef-3633901c98d9    control  2020-07-03    15   \n",
       "4  001a7785-d3fe-4e11-a344-c8735acacc2c    control  2020-07-03    15   \n",
       "\n",
       "          device_make  platform_os                browser  yes  no  \n",
       "0  Generic Smartphone            6          Chrome Mobile    0   0  \n",
       "1  Generic Smartphone            6          Chrome Mobile    0   0  \n",
       "2               E5823            6  Chrome Mobile WebView    0   1  \n",
       "3   Samsung SM-A705FN            6               Facebook    0   0  \n",
       "4  Generic Smartphone            6          Chrome Mobile    0   0  "
      ]
     },
     "execution_count": 10,
     "metadata": {},
     "output_type": "execute_result"
    }
   ],
   "source": [
    "#check if it have duplicate user id\n",
    "data.unique_users(df)\n",
    "df.head()"
   ]
  },
  {
   "cell_type": "code",
   "execution_count": 36,
   "id": "dc9dcd20",
   "metadata": {},
   "outputs": [
    {
     "name": "stdout",
     "output_type": "stream",
     "text": [
      "<class 'pandas.core.frame.DataFrame'>\n",
      "RangeIndex: 8077 entries, 0 to 8076\n",
      "Data columns (total 9 columns):\n",
      " #   Column       Non-Null Count  Dtype \n",
      "---  ------       --------------  ----- \n",
      " 0   auction_id   8077 non-null   object\n",
      " 1   experiment   8077 non-null   object\n",
      " 2   date         8077 non-null   object\n",
      " 3   hour         8077 non-null   int64 \n",
      " 4   device_make  8077 non-null   object\n",
      " 5   platform_os  8077 non-null   int64 \n",
      " 6   browser      8077 non-null   object\n",
      " 7   yes          8077 non-null   int64 \n",
      " 8   no           8077 non-null   int64 \n",
      "dtypes: int64(4), object(5)\n",
      "memory usage: 568.0+ KB\n"
     ]
    }
   ],
   "source": [
    "df.info()"
   ]
  },
  {
   "cell_type": "code",
   "execution_count": 37,
   "id": "7fad5079",
   "metadata": {},
   "outputs": [
    {
     "name": "stdout",
     "output_type": "stream",
     "text": [
      "Numerical Columns: ['hour', 'platform_os', 'yes', 'no']\n",
      "****************\n",
      "Categorical Columns: ['auction_id', 'experiment', 'date', 'device_make', 'browser']\n"
     ]
    }
   ],
   "source": [
    "#categorical vs. numerical\n",
    "numerical_column = df.select_dtypes(exclude=\"object\").columns.tolist()\n",
    "categorical_column = df.select_dtypes(include=\"object\").columns.tolist()\n",
    "print(\"Numerical Columns:\", numerical_column)\n",
    "print(\"****************\")\n",
    "print(\"Categorical Columns:\", categorical_column)"
   ]
  },
  {
   "cell_type": "code",
   "execution_count": 39,
   "id": "b65b5282",
   "metadata": {},
   "outputs": [
    {
     "name": "stdout",
     "output_type": "stream",
     "text": [
      "no repeated impression id\n"
     ]
    }
   ],
   "source": [
    "if(df.nunique()['auction_id']==8077):\n",
    "    print(\"no repeated impression id\")"
   ]
  },
  {
   "cell_type": "code",
   "execution_count": 11,
   "id": "396e1230",
   "metadata": {},
   "outputs": [
    {
     "name": "stdout",
     "output_type": "stream",
     "text": [
      "users that belong to control group is 4071\n",
      "users that belong to exposed group is 4006\n"
     ]
    }
   ],
   "source": [
    "aggregat_contorl = df.groupby('experiment').agg({'auction_id': 'count'})['auction_id']['control']\n",
    "aggregat_exposed  = df.groupby('experiment').agg({'auction_id': 'count'})['auction_id']['exposed']\n",
    "\n",
    "print(f\"users that belong to control group is {aggregat_contorl}\")\n",
    "print(f\"users that belong to exposed group is {aggregat_exposed}\")"
   ]
  },
  {
   "cell_type": "markdown",
   "id": "31e60515",
   "metadata": {},
   "source": [
    ">4071 users from the experiment are control group while,4006 are from the belong to exposed group"
   ]
  },
  {
   "cell_type": "markdown",
   "id": "ce1d77b7",
   "metadata": {},
   "source": [
    "* if both section of yes and no is 0, then the users didn't answered\n",
    "* let us filter out those who answered either yes or no"
   ]
  },
  {
   "cell_type": "code",
   "execution_count": 12,
   "id": "f304411a",
   "metadata": {},
   "outputs": [
    {
     "name": "stdout",
     "output_type": "stream",
     "text": [
      "There are 1243 rows and 9 columns\n"
     ]
    }
   ],
   "source": [
    "answered = df.query('yes==1 or no==1')\n",
    "print(f\"There are {answered.shape[0]} rows and {answered.shape[1]} columns\")"
   ]
  },
  {
   "cell_type": "markdown",
   "id": "1c4c5842",
   "metadata": {},
   "source": [
    "* plots of people who answered yes or no"
   ]
  },
  {
   "cell_type": "code",
   "execution_count": 13,
   "id": "888d5e15",
   "metadata": {},
   "outputs": [
    {
     "data": {
      "text/plain": [
       "<matplotlib.legend.Legend at 0x21a03c4f550>"
      ]
     },
     "execution_count": 13,
     "metadata": {},
     "output_type": "execute_result"
    },
    {
     "data": {
      "image/png": "[encoded data removed]",
      "text/plain": [
       "<Figure size 648x504 with 1 Axes>"
      ]
     },
     "metadata": {
      "needs_background": "light"
     },
     "output_type": "display_data"
    }
   ],
   "source": [
    "plt.figure(figsize=(9,7))\n",
    "ax=sns.countplot(x ='experiment', hue='yes', data = answered) \n",
    "\n",
    "ax.set_xlabel('Experiment', fontsize=15)\n",
    "ax.set_ylabel('Count' , fontsize=15)\n",
    "ax.set_title('Count of people who answered in experiment group', fontsize=15, fontweight='bold')\n",
    "plt.legend( ['No', 'Yes'])"
   ]
  },
  {
   "cell_type": "markdown",
   "id": "2d8ae451",
   "metadata": {},
   "source": [
    "* PLOT OF USED BROWSERS"
   ]
  },
  {
   "cell_type": "code",
   "execution_count": 14,
   "id": "a9405665",
   "metadata": {},
   "outputs": [
    {
     "data": {
      "text/plain": [
       "Text(0.5, 1.0, 'Used Browsers')"
      ]
     },
     "execution_count": 14,
     "metadata": {},
     "output_type": "execute_result"
    },
    {
     "data": {
      "image/png": "[encoded data removed]",
      "text/plain": [
       "<Figure size 648x504 with 1 Axes>"
      ]
     },
     "metadata": {
      "needs_background": "light"
     },
     "output_type": "display_data"
    }
   ],
   "source": [
    "plt.figure(figsize=(9,7))\n",
    "ax= sns.countplot(x ='browser', data = df) \n",
    "ax.set_xticklabels(ax.get_xticklabels(), rotation=60, ha=\"right\")\n",
    "plt.tight_layout()\n",
    "ax.set_xlabel('Browser', fontsize=15)\n",
    "ax.set_ylabel('Count' , fontsize=15)\n",
    "ax.set_title('Used Browsers', fontsize=15, fontweight='bold')"
   ]
  },
  {
   "cell_type": "markdown",
   "id": "a201c959",
   "metadata": {},
   "source": [
    "* PLOT FOR DATE"
   ]
  },
  {
   "cell_type": "code",
   "execution_count": 15,
   "id": "847c6484",
   "metadata": {},
   "outputs": [
    {
     "data": {
      "image/png": "[encoded data removed]",
      "text/plain": [
       "<Figure size 864x504 with 1 Axes>"
      ]
     },
     "metadata": {
      "needs_background": "light"
     },
     "output_type": "display_data"
    }
   ],
   "source": [
    "def plot_count(df:pd.DataFrame, column:str) -> None:\n",
    "    plt.figure(figsize=(12, 7))\n",
    "    sns.countplot(data=df, x=column)\n",
    "    plt.title(f'Plot count of {column}', size=20, fontweight='bold')\n",
    "    \n",
    "plot_count(answered, 'date')"
   ]
  },
  {
   "cell_type": "markdown",
   "id": "1c9f572d",
   "metadata": {},
   "source": [
    "* Most of the data was collected on the first date"
   ]
  },
  {
   "cell_type": "code",
   "execution_count": 16,
   "id": "d2112c2e",
   "metadata": {},
   "outputs": [
    {
     "data": {
      "image/png": "[encoded data removed]",
      "text/plain": [
       "<Figure size 504x504 with 1 Axes>"
      ]
     },
     "metadata": {},
     "output_type": "display_data"
    }
   ],
   "source": [
    "top_10 = df['device_make'].value_counts().nlargest(10)\n",
    "fig1, ax1 = plt.subplots(figsize=(7, 7))\n",
    "ax1.pie(top_10.values, labels=top_10.index, autopct='%1.1f%%', shadow=True)\n",
    "ax1.axis('equal')\n",
    "ax1.set_title('Pie plot of most popular smart phones', fontsize=15, fontweight='bold')\n",
    "plt.show()"
   ]
  },
  {
   "cell_type": "markdown",
   "id": "46fa2722",
   "metadata": {},
   "source": [
    "* From the graph we can see that the version of smartphones used are not known"
   ]
  },
  {
   "cell_type": "markdown",
   "id": "719755a5",
   "metadata": {},
   "source": [
    "* CORRELATION ANALYSIS"
   ]
  },
  {
   "cell_type": "code",
   "execution_count": 17,
   "id": "949df37d",
   "metadata": {},
   "outputs": [
    {
     "data": {
      "image/png": "[encoded data removed]",
      "text/plain": [
       "<Figure size 576x504 with 2 Axes>"
      ]
     },
     "metadata": {
      "needs_background": "light"
     },
     "output_type": "display_data"
    }
   ],
   "source": [
    "plt.figure(figsize=(8, 7))\n",
    "corr = df.corr()\n",
    "sns.heatmap(corr)\n",
    "plt.title('correlation', fontsize=15, fontweight='bold')\n",
    "plt.show()"
   ]
  },
  {
   "cell_type": "markdown",
   "id": "07735c41",
   "metadata": {},
   "source": [
    "* COMPARE THE TWO GROUPS"
   ]
  },
  {
   "cell_type": "code",
   "execution_count": 18,
   "id": "a02d4570",
   "metadata": {},
   "outputs": [
    {
     "data": {
      "text/html": [
       "<div>\n",
       "<style scoped>\n",
       "    .dataframe tbody tr th:only-of-type {\n",
       "        vertical-align: middle;\n",
       "    }\n",
       "\n",
       "    .dataframe tbody tr th {\n",
       "        vertical-align: top;\n",
       "    }\n",
       "\n",
       "    .dataframe thead th {\n",
       "        text-align: right;\n",
       "    }\n",
       "</style>\n",
       "<table border=\"1\" class=\"dataframe\">\n",
       "  <thead>\n",
       "    <tr style=\"text-align: right;\">\n",
       "      <th></th>\n",
       "      <th>yes</th>\n",
       "      <th>total</th>\n",
       "      <th>no</th>\n",
       "      <th>baseline rate</th>\n",
       "    </tr>\n",
       "    <tr>\n",
       "      <th>experiment</th>\n",
       "      <th></th>\n",
       "      <th></th>\n",
       "      <th></th>\n",
       "      <th></th>\n",
       "    </tr>\n",
       "  </thead>\n",
       "  <tbody>\n",
       "    <tr>\n",
       "      <th>control</th>\n",
       "      <td>264</td>\n",
       "      <td>586</td>\n",
       "      <td>322</td>\n",
       "      <td>0.450512</td>\n",
       "    </tr>\n",
       "    <tr>\n",
       "      <th>exposed</th>\n",
       "      <td>308</td>\n",
       "      <td>657</td>\n",
       "      <td>349</td>\n",
       "      <td>0.468798</td>\n",
       "    </tr>\n",
       "  </tbody>\n",
       "</table>\n",
       "</div>"
      ],
      "text/plain": [
       "            yes  total   no  baseline rate\n",
       "experiment                                \n",
       "control     264    586  322       0.450512\n",
       "exposed     308    657  349       0.468798"
      ]
     },
     "execution_count": 18,
     "metadata": {},
     "output_type": "execute_result"
    }
   ],
   "source": [
    "ab_summary = answered.pivot_table(values='yes', index='experiment', aggfunc=np.sum)\n",
    "ab_summary['total'] = answered.pivot_table(values='yes', index='experiment', aggfunc=lambda x: len(x))\n",
    "ab_summary['no']=ab_summary['total']-ab_summary['yes']\n",
    "ab_summary['baseline rate'] = answered.pivot_table(values='yes', index='experiment')\n",
    "ab_summary"
   ]
  },
  {
   "cell_type": "markdown",
   "id": "faed7686",
   "metadata": {},
   "source": [
    "* The baseline rate is calculated by taking the number of conversions(yes) and dividing that by the number of social interaction(total saying yes and no)\n",
    "* The conversion rate between control and exposed group is 0.018"
   ]
  },
  {
   "cell_type": "markdown",
   "id": "e19fe072",
   "metadata": {},
   "source": [
    "* PLOT OF AWARE"
   ]
  },
  {
   "cell_type": "code",
   "execution_count": 19,
   "id": "b7bc9f3f",
   "metadata": {},
   "outputs": [],
   "source": [
    "from scipy.stats import binom\n",
    "control_plot = ab_summary['yes']['control']/ab_summary['total']['control']\n",
    "exposed_plot = ab_summary['yes']['exposed']/ab_summary['total']['exposed']\n",
    "tot_exp_plot = ab_summary['total']['exposed']\n",
    "tot_cont_plot = ab_summary['total']['control']\n",
    "cont_aware = ab_summary['yes']['control']\n",
    "exp_aware = ab_summary['yes']['exposed']"
   ]
  },
  {
   "cell_type": "code",
   "execution_count": 20,
   "id": "b1462a7c",
   "metadata": {},
   "outputs": [
    {
     "data": {
      "image/png": "[encoded data removed]",
      "text/plain": [
       "<Figure size 864x432 with 1 Axes>"
      ]
     },
     "metadata": {
      "needs_background": "light"
     },
     "output_type": "display_data"
    }
   ],
   "source": [
    "#plot of aware\n",
    "DP = DistributionPlots()\n",
    "HPP = HypothesisPlot()\n",
    "DP.cont_distribution(cont_aware, tot_cont_plot, control_plot, exposed_plot)"
   ]
  },
  {
   "cell_type": "markdown",
   "id": "d66b0f71",
   "metadata": {},
   "source": [
    "* the result from the exposed group in the above plot is indicated by the blue dashline"
   ]
  },
  {
   "cell_type": "markdown",
   "id": "3a32d10f",
   "metadata": {},
   "source": [
    "* PLOT OF THE TWO GROUPS"
   ]
  },
  {
   "cell_type": "code",
   "execution_count": 21,
   "id": "e5b5941e",
   "metadata": {},
   "outputs": [
    {
     "data": {
      "image/png": "[encoded data removed]",
      "text/plain": [
       "<Figure size 864x432 with 1 Axes>"
      ]
     },
     "metadata": {
      "needs_background": "light"
     },
     "output_type": "display_data"
    }
   ],
   "source": [
    "#plot of aware in exposed and controlled\n",
    "DP.cont_exp_distribution(cont_aware, exp_aware, tot_cont_plot, tot_exp_plot, control_plot, exposed_plot) "
   ]
  },
  {
   "cell_type": "markdown",
   "id": "1dd0b0d9",
   "metadata": {},
   "source": [
    "* we can see that the controlled group converted more than the exposed group"
   ]
  },
  {
   "cell_type": "markdown",
   "id": "52572dfc",
   "metadata": {},
   "source": [
    "* STANDARD ERROR OF MEAN FOR BOTH GROUPS"
   ]
  },
  {
   "cell_type": "markdown",
   "id": "935da776",
   "metadata": {},
   "source": [
    "* to calculate the standard error of mean we need to understand what CLT theorem is\n",
    "* CLT theorem suggests that by calculating mean of many samples we can calculate the true mean of the population(the data which the control group was taken)\n",
    "* So standard error of the mean indicates how different the population mean is likely to be from the sample mean"
   ]
  },
  {
   "cell_type": "code",
   "execution_count": 22,
   "id": "e5e84a65",
   "metadata": {},
   "outputs": [],
   "source": [
    "SE_control = np.sqrt(control_plot * (1-control_plot)) / np.sqrt(tot_cont_plot)\n",
    "SE_exposed = np.sqrt(exposed_plot * (1-exposed_plot)) / np.sqrt(tot_exp_plot)"
   ]
  },
  {
   "cell_type": "code",
   "execution_count": 23,
   "id": "2a11d364",
   "metadata": {},
   "outputs": [
    {
     "data": {
      "image/png": "[encoded data removed]",
      "text/plain": [
       "<Figure size 864x432 with 1 Axes>"
      ]
     },
     "metadata": {
      "needs_background": "light"
     },
     "output_type": "display_data"
    }
   ],
   "source": [
    "fig, ax = plt.subplots(figsize=(12, 6))\n",
    "x = np.linspace(.35, .6, 1000)\n",
    "\n",
    "yC = scs.norm(control_plot, SE_control).pdf(x)\n",
    "ax.plot(x, yC, label='Control')\n",
    "ax.axvline(x=control_plot, c='red', alpha=0.5, linestyle='--')\n",
    "\n",
    "yE = scs.norm(exposed_plot, SE_exposed).pdf(x)\n",
    "ax.plot(x, yE, label='Exposed')\n",
    "ax.axvline(x=exposed_plot, c='blue', alpha=0.5, linestyle='--')\n",
    "\n",
    "plt.legend()\n",
    "plt.xlabel('Awareness Proportion')\n",
    "plt.ylabel('PDF')\n",
    "plt.show()\n"
   ]
  },
  {
   "cell_type": "markdown",
   "id": "38dfa466",
   "metadata": {},
   "source": [
    "* the dash lines represents the mean conversion rates for the control and exposed group"
   ]
  },
  {
   "cell_type": "markdown",
   "id": "24a58789",
   "metadata": {},
   "source": [
    " VARIANCE OF THE SUM"
   ]
  },
  {
   "cell_type": "markdown",
   "id": "8875cca9",
   "metadata": {},
   "source": [
    "* A basic property of variance is that the variance of the sum of two random independent variables is the sum of the variances."
   ]
  },
  {
   "cell_type": "markdown",
   "id": "bd80996a",
   "metadata": {},
   "source": [
    "* This means that the null hypothesis and alternative hypothesis will have the same variance, which will be, the sum of the variances for the control group and the test group."
   ]
  },
  {
   "cell_type": "code",
   "execution_count": 24,
   "id": "8b28093a",
   "metadata": {},
   "outputs": [
    {
     "data": {
      "text/plain": [
       "(0.02055339057798332, 0.019468837373132736)"
      ]
     },
     "execution_count": 24,
     "metadata": {},
     "output_type": "execute_result"
    }
   ],
   "source": [
    "#calculate variance of sum\n",
    "var_cont = np.sqrt(control_plot * (1 - control_plot) / tot_cont_plot)\n",
    "var_exp = np.sqrt(exposed_plot * (1 - exposed_plot) / tot_exp_plot)\n",
    "var_cont, var_exp"
   ]
  },
  {
   "cell_type": "markdown",
   "id": "91f5c560",
   "metadata": {},
   "source": [
    " NULL HYPOTHESIS VS. ALTERNATIVE HYPOTHESIS"
   ]
  },
  {
   "cell_type": "markdown",
   "id": "d94fe8ec",
   "metadata": {},
   "source": [
    "* Null hypothesis(H0) suggests that there is no difference in brand awareness between conrolled and exposed group\n",
    "* Alternative hypothesis(H1) suggests a difference in brand awarness"
   ]
  },
  {
   "cell_type": "code",
   "execution_count": null,
   "id": "1fade4cc",
   "metadata": {},
   "outputs": [],
   "source": []
  },
  {
   "cell_type": "code",
   "execution_count": null,
   "id": "892b81df",
   "metadata": {},
   "outputs": [],
   "source": []
  },
  {
   "cell_type": "code",
   "execution_count": null,
   "id": "28f0100f",
   "metadata": {},
   "outputs": [],
   "source": []
  }
 ],
 "metadata": {
  "kernelspec": {
   "display_name": "Python 3 (ipykernel)",
   "language": "python",
   "name": "python3"
  },
  "language_info": {
   "codemirror_mode": {
    "name": "ipython",
    "version": 3
   },
   "file_extension": ".py",
   "mimetype": "text/x-python",
   "name": "python",
   "nbconvert_exporter": "python",
   "pygments_lexer": "ipython3",
   "version": "3.10.3"
  }
 },
 "nbformat": 4,
 "nbformat_minor": 5
}
